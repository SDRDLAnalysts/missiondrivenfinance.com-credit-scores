{
 "cells": [
  {
   "cell_type": "code",
   "execution_count": 1,
   "metadata": {
    "scrolled": false
   },
   "outputs": [
    {
     "data": {
      "text/html": [
       "<h1>Community Reinvestment Act Disclosure Files</h1>\n",
       "<p><p>ffiec.gov-cra_disclosure_smb_orig-2010_2015-2</p>\n",
       "<p>Multi-year CRA disclosures for small business originations.</p>\n",
       "<p>metapack+http://library.metatab.org/ffiec.gov-cra_disclosure_smb_orig-2010_2015-2.csv</p></p>\n",
       "<h2>Contacts</h2>\n",
       "<p><strong>Wrangler:</strong> <a href=\"mailto:eric@sandiegodata.org\">Eric Busboom</a> <a href=\"http://sandiegodata.org\">San Diego Regional Data Library</a></p>\n",
       "<h2>Resources</h2>\n",
       "<p><ol>\n",
       "<li><p><strong>sb_loan_orig</strong> - <a target=\"_blank\" href=\"http://library.metatab.org/ffiec.gov-cra_disclosure_smb_orig-2010_2015-2/data/sb_loan_orig.csv\">http://library.metatab.org/ffiec.gov-cra_disclosure_smb_orig-2010_2015-2/data/sb_loan_orig.csv</a> Table D1-1, small business disclosire records, for years 2010 to 2015 inclusive</p></li>\n",
       "</ol></p>\n",
       "<h2>References</h2>\n",
       "<p><ol>\n",
       "<li><p><strong>discl_15</strong> - <a target=\"_blank\" href=\"https://www.ffiec.gov/cra/xls/15exp_discl.zip\">https://www.ffiec.gov/cra/xls/15exp_discl.zip</a> </p></li>\n",
       "<li><p><strong>discl_14</strong> - <a target=\"_blank\" href=\"https://www.ffiec.gov/cra/xls/14exp_discl.zip\">https://www.ffiec.gov/cra/xls/14exp_discl.zip</a> </p></li>\n",
       "<li><p><strong>discl_13</strong> - <a target=\"_blank\" href=\"https://www.ffiec.gov/cra/xls/13exp_discl.zip\">https://www.ffiec.gov/cra/xls/13exp_discl.zip</a> </p></li>\n",
       "<li><p><strong>discl_12</strong> - <a target=\"_blank\" href=\"https://www.ffiec.gov/cra/xls/12exp_discl.zip\">https://www.ffiec.gov/cra/xls/12exp_discl.zip</a> </p></li>\n",
       "<li><p><strong>discl_11</strong> - <a target=\"_blank\" href=\"https://www.ffiec.gov/cra/xls/11exp_discl.zip\">https://www.ffiec.gov/cra/xls/11exp_discl.zip</a> </p></li>\n",
       "<li><p><strong>discl_10</strong> - <a target=\"_blank\" href=\"https://www.ffiec.gov/cra/xls/10exp_discl.zip\">https://www.ffiec.gov/cra/xls/10exp_discl.zip</a> </p></li></p>\n",
       "</ol>"
      ],
      "text/plain": [
       "<metapack.doc.MetapackDoc at 0x106011f60>"
      ]
     },
     "execution_count": 1,
     "metadata": {},
     "output_type": "execute_result"
    }
   ],
   "source": [
    "import pandas as pd\n",
    "import numpy as np\n",
    "import metapack as mp\n",
    "\n",
    "pkg =  mp.open_package('http://library.metatab.org/ffiec.gov-cra_disclosure_smb_orig-2010_2015-2.csv')\n",
    "\n",
    "pkg"
   ]
  },
  {
   "cell_type": "code",
   "execution_count": 2,
   "metadata": {},
   "outputs": [
    {
     "data": {
      "text/html": [
       "<h3><a name=\"resource-sb_loan_orig\"></a>sb_loan_orig</h3><p><a target=\"_blank\" href=\"http://library.metatab.org/ffiec.gov-cra_disclosure_smb_orig-2010_2015-2/data/sb_loan_orig.csv\">http://library.metatab.org/ffiec.gov-cra_disclosure_smb_orig-2010_2015-2/data/sb_loan_orig.csv</a></p><table>\n",
       "<tr><th>Header</th><th>Type</th><th>Description</th></tr><tr><td>table_id</td><td>text</td><td>Value is D1-1</td></tr> \n",
       "<tr><td>respondent_id</td><td>text</td><td>Assigned by regulatory agency \n",
       "(same as HMDAID if applicable);  \n",
       "Right justified with leading zeros</td></tr> \n",
       "<tr><td>agency</td><td>integer</td><td>Values are 1=OCC, 2=FRS, \n",
       "3=FDIC, or 4=OTS</td></tr> \n",
       "<tr><td>year</td><td>integer</td><td>Four digit year (e.g. 2012)</td></tr> \n",
       "<tr><td>loan_type</td><td>integer</td><td>Value is 4 (Small Business)</td></tr> \n",
       "<tr><td>action</td><td>integer</td><td>Value is 1 (Originations)</td></tr> \n",
       "<tr><td>state</td><td>integer</td><td>FIPS code with leading zeros \n",
       "or blank for totals across all \n",
       "states</td></tr> \n",
       "<tr><td>county</td><td>integer</td><td>FIPS code with leading zeros or blank \n",
       "for totals across all counties</td></tr> \n",
       "<tr><td>msa</td><td>integer</td><td>As defined by OMB; Right justified \n",
       "with leading zeros, NA left justified \n",
       "for areas outside of MSA/MD or blank \n",
       "for totals across all MSA/MDs</td></tr> \n",
       "<tr><td>assessment_area</td><td>text</td><td>Values are 0001 through 9999; Right \n",
       "justified with leading zeros, NA left justified \n",
       "for areas outside of an Assessment \n",
       "Area (including predominately military \n",
       "areas) OR blank for totals across \n",
       "all Assessment Areas</td></tr> \n",
       "<tr><td>partial_county</td><td>text</td><td>Values are \n",
       "Y = Yes \n",
       "N = No \n",
       "OR blank for totals</td></tr> \n",
       "<tr><td>split_county</td><td>text</td><td>Values are \n",
       "Y = Yes \n",
       "N = No \n",
       "OR blank for totals</td></tr> \n",
       "<tr><td>pop_class</td><td>text</td><td>Values are \n",
       "S= counties with \n",
       "< 500,000 in population \n",
       "L= counties with \n",
       ">500,000 in population \n",
       "OR blank for totals</td></tr> \n",
       "<tr><td>income_total</td><td>text</td><td>Values are \n",
       "1= < 10% of Median Family \n",
       "Income(MFI) \n",
       "2= 10% to 20% of MFI \n",
       "3= 20% to 30% of MFI \n",
       "4= 30% to 40% of MFI \n",
       "5= 40% to 50% of MFI \n",
       "6= 50% to 60% of MFI \n",
       "7= 60% to 70% of MFI \n",
       "8= 70% to 80% of MFI \n",
       "9= 80% to 90% of MFI \n",
       " 10= 90% to 100% of MFI \n",
       " 11= 100% to 110% of MFI \n",
       " 12= 110% to 120% of MFI \n",
       " 13= > 120% of MFI \n",
       " 14= MFI not known (income \n",
       "percentage = 0) \n",
       " 15= Tract not Known (reported \n",
       "as NA) \n",
       "101= Low Income (< 50% of \n",
       "MFI - excluding 0) \n",
       "102= Moderate Income (50% \n",
       "to 80% of MFI) \n",
       "103= Middle Income (80% to \n",
       "120% of MFI) \n",
       "104= Upper Income (> 120% \n",
       "of MFI) \n",
       "105= Income Not Known (0) \n",
       "106= Tract not Known (NA) \n",
       "Right justified with leading zeros \n",
       "or blank for totals</td></tr> \n",
       "<tr><td>report_level</td><td>text</td><td>Values are \n",
       "4= Total Inside & Outside \n",
       "Assessment Area (AA) \n",
       "(across all states) \n",
       "6= Total Inside AA \n",
       "(across all states) \n",
       "8= Total Outside AA \n",
       "(across all states) \n",
       "  10= State Total \n",
       "  20= Total Inside AA in State \n",
       "  30= Total Outside AA in State \n",
       "  40= County Total \n",
       "  50= Total Inside AA in County \n",
       "  60= Total Outside AA in County \n",
       "Right justified with leading zeros \n",
       "or blank if not a total</td></tr> \n",
       "<tr><td>num_orig_bus_lt100k</td><td>integer</td><td>Right justified with leading zeros</td></tr> \n",
       "<tr><td>tot_orig_bus_lt100k</td><td>integer</td><td>Amount is in thousands {e.g. 00000025 \n",
       "indicates $25,000); Right justified with \n",
       "leading zeros</td></tr> \n",
       "<tr><td>num_orig_bus_lt250k</td><td>integer</td><td>Right justified with leading zeros</td></tr> \n",
       "<tr><td>tot_orig_bus_gt100k_lt250k</td><td>integer</td><td>Amount is in thousands {e.g. 00000125 \n",
       "indicates $125,000); Right justified with \n",
       "leading zeros</td></tr> \n",
       "<tr><td>num_orig_bus_gt250k_lt1m</td><td>integer</td><td>Right justified with leading zeros</td></tr> \n",
       "<tr><td>tot_orig_bus_gt250k_lt1m</td><td>integer</td><td>Amount is in thousands {e.g. 00000300 \n",
       "indicates $300,000); Right justified with \n",
       "leading zeros</td></tr> \n",
       "<tr><td>num_orig_bus_lt1m</td><td>integer</td><td>Right justified with leading zeros</td></tr> \n",
       "<tr><td>tot_orig_bus_lt1m</td><td>integer</td><td>Amount is in thousands {e.g. 00000025 \n",
       "indicates $25,000); Right justified with \n",
       "leading zeros</td></tr> \n",
       "<tr><td>num_orig_bus_al</td><td>integer</td><td>Right justified with leading zeros</td></tr> \n",
       "<tr><td>tot_orig_bus_al</td><td>integer</td><td>Amount is in thousands {e.g. 00000025 \n",
       "indicates $25,000); Right justified with \n",
       "leading zeros</td></tr> </table>"
      ],
      "text/plain": [
       "<Resource: ffiec.gov-cra_disclosure_smb_orig-2010_2015-2.csv 30:1 root.datafile http://library.metatab.org/ffiec.gov-cra_disclosure_smb_orig-2010_2015-2/data/sb_loan_orig.csv ['sb_loan_orig', 'cra_disclosure', 'D1-1', 'Table D1-1, small business disclosire records, for years 2010 to 2015 inclusive']>"
      ]
     },
     "execution_count": 2,
     "metadata": {},
     "output_type": "execute_result"
    }
   ],
   "source": [
    "r = pkg.resource('sb_loan_orig')\n",
    "r"
   ]
  },
  {
   "cell_type": "code",
   "execution_count": 3,
   "metadata": {
    "collapsed": true
   },
   "outputs": [],
   "source": [
    "df = r.dataframe()"
   ]
  },
  {
   "cell_type": "code",
   "execution_count": 4,
   "metadata": {},
   "outputs": [
    {
     "data": {
      "text/plain": [
       "4391391"
      ]
     },
     "execution_count": 4,
     "metadata": {},
     "output_type": "execute_result"
    }
   ],
   "source": [
    "len(df)"
   ]
  },
  {
   "cell_type": "code",
   "execution_count": 7,
   "metadata": {},
   "outputs": [
    {
     "data": {
      "text/plain": [
       "431"
      ]
     },
     "execution_count": 7,
     "metadata": {},
     "output_type": "execute_result"
    }
   ],
   "source": [
    "len(df.msa.unique())\n"
   ]
  },
  {
   "cell_type": "code",
   "execution_count": 8,
   "metadata": {},
   "outputs": [
    {
     "data": {
      "text/plain": [
       "0     0\n",
       "1     3\n",
       "2    27\n",
       "3    15\n",
       "4     0\n",
       "Name: num_orig_bus_lt100k, dtype: int64"
      ]
     },
     "execution_count": 8,
     "metadata": {},
     "output_type": "execute_result"
    }
   ],
   "source": [
    "df.num_orig_bus_lt100k.head()"
   ]
  },
  {
   "cell_type": "code",
   "execution_count": null,
   "metadata": {
    "collapsed": true
   },
   "outputs": [],
   "source": []
  }
 ],
 "metadata": {
  "kernelspec": {
   "display_name": "Python 3",
   "language": "python",
   "name": "python3"
  },
  "language_info": {
   "codemirror_mode": {
    "name": "ipython",
    "version": 3
   },
   "file_extension": ".py",
   "mimetype": "text/x-python",
   "name": "python",
   "nbconvert_exporter": "python",
   "pygments_lexer": "ipython3",
   "version": "3.6.1"
  },
  "varInspector": {
   "cols": {
    "lenName": 16,
    "lenType": 16,
    "lenVar": 40
   },
   "kernels_config": {
    "python": {
     "delete_cmd_postfix": "",
     "delete_cmd_prefix": "del ",
     "library": "var_list.py",
     "varRefreshCmd": "print(var_dic_list())"
    },
    "r": {
     "delete_cmd_postfix": ") ",
     "delete_cmd_prefix": "rm(",
     "library": "var_list.r",
     "varRefreshCmd": "cat(var_dic_list()) "
    }
   },
   "types_to_exclude": [
    "module",
    "function",
    "builtin_function_or_method",
    "instance",
    "_Feature"
   ],
   "window_display": false
  }
 },
 "nbformat": 4,
 "nbformat_minor": 2
}
